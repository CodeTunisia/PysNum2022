{
 "cells": [
  {
   "cell_type": "markdown",
   "id": "ef072325-b4eb-4e08-ba8a-9ff4bd53331d",
   "metadata": {},
   "source": [
    "# Résolution des équations différentielles ordinaires\n",
    "Nous allons dans un premier temps nous intéresser aux équations différentielles que l'on peut mettre sous la forme :\n",
    "$$\\dot{x} = f(x(t), t)$$\n",
    "où $f$ est une fonction définie sur une partie $U$ de $\\mathbb{R}^2$ , à valeurs dans $\\mathbb{R}$.\n",
    "\n",
    "Une solution de cette équation différentielle est une fonction $x$ de classe $C^1$ définie sur un certain intervalle $I$ de $\\mathbb{R}$ et à valeurs dans $\\mathbb{R}$ vérifiant :\n",
    "\n",
    "* (i) $\\forall t \\in I$ ; $(x(t), t) \\in U$;\n",
    "\n",
    "* (ii) $\\forall t \\in I$ ; $\\dot{x} = f(x(t), t)$.\n",
    "\n",
    "Nous allons adjoindre à cette équation différentielle une *condition initiale* sous la forme d'un couple $(x_0 , t_0 ) \\in U$ et chercher à résoudre **le problème de Cauchy** suivant :\n",
    "\n",
    "$$\\left\\{\n",
    "    \\begin{array}{ll}\n",
    "    \\dot{x} = f(x(t), t)\\\\\n",
    "    x(t_0) = x_0\n",
    "    \\end{array}\n",
    "\\right.$$\n",
    "\n",
    "Sous certaines conditions sur $f$ que nous ne détaillerons pas, ce problème admet une unique solution, que nous allons chercher à déterminer numériquement.\n",
    "\n",
    "## Méthodes pour la résolution numérique des équations différentielles ordinaires\n",
    "### Méthode d'Euler explicite (progressive)\n",
    "Les méthodes que nous allons étudier consistent à subdiviser l'intervalle de temps $[t_0 , t_0 + T]$ en $n + 1$ points $t_0 < t_1 < \\dots < t_n = t_0+ T$ puis à approcher la relation :\n",
    "$$x(t_{k+1}) - x(t_k) = \\int_{t_k}^{t_{k+1}} \\dot{x} dt  = \\int_{t_k}^{t_{k+1}} f(x(t), t) dt $$\n",
    "La méthode *d'Euler explicite* consiste à approcher cette intégrale par la méthode du **rectangle gauche**, autrement dit à approcher $\\int_{t_k}^{t_{k+1}} f(x(t), t) dt$ par $(t_{k+1} - t_k)f(x(t), t)$.\n",
    "\n",
    "\n",
    "![](figures/fd_forward.png)\n",
    "\n",
    "En posant $h_k = t_{k+1} - t_k$ , ceci conduit à définir une suite de valeurs $x_0 , x_1,\\dots, x_n$ à partir de la condition initiale\n",
    "$x_0$ et de la *relation de récurrence* :\n",
    "$$\\forall k \\in [0, n-1], \\quad x_{k+1} = x_{k} + h_k f(x_k, t_k)$$\n",
    "\n",
    "On observera qu'en général, seul le premier point $x_0$ de cette méthode est une valeur exacte ; les autres points sont calculés à partir de l'approximation précédente, ce qui peut conduire la valeur calculée $x_k$ à s'écarter de plus en plus de la valeur exacte $x(t_k)$.\n",
    "\n",
    "### Méthode d'Euler implicite (rétrograde)\n",
    "La méthode *d'Euler implicite* consiste à approcher l'intégrale $\\int_{t_k}^{t_{k+1}} f(x(t), t) dt$ par la méthode du **rectangle droit**emph, ce qui conduit à définir la suite $(x_0 , x_1,\\dots, x_n)$ par les relations :\n",
    "\n",
    "$$\\forall k \\in [0, n-1], \\quad x_{k+1} = x_{k} + h_k f(x_{k+1}, t_{k+1})$$\n",
    "\n",
    "![](figures/fd_backward.png)\n",
    "\n",
    "On observe que cette relation *ne procure pas une relation explicite* de $x_{k+1}$ puisque ce terme est aussi présent dans le second membre. Pour calculer ce terme il est souvent nécessaire de coupler cette méthode à une méthode de résolution numérique des équations telle la méthode de Newton-Raphson. Pour cette raison, elle se révèle plus coûteuse à mettre en oeuvre.\n",
    "\n",
    "Dans la pratique, la méthode d'Euler implicite se révèle souvent plus stable que la méthode explicite : elle est moins précise à court terme, mais diverge moins rapidement de la solution exacte que la méthode explicite.\n",
    "\n",
    "### Méthode de Heun\n",
    "$y_0 = y(a)$\n",
    "\n",
    "Pour $k \\in[0, n-1]$\n",
    "\n",
    "$$v_k = y_k + h F(t_k, y_k)$$\n",
    "\n",
    "La réccurrence pour $k \\in[0, n-2]$\n",
    "\n",
    "$$y_{k+1} = y_k + h \\left( \\dfrac{F(t_k, y_k)}{2} + \\dfrac{F(t_{k+1}, v_k)}{2} \\right)$$\n",
    "\n",
    "Le terme $v_k$ représente la valeur approchée calculée par Euler. Ainsi, la méthode de Heun consiste à faire une moyenne entre la dérivée au temps $t_k$ et celle au temps $t_{k+1}$ en la valeur approchée calculée par Euler."
   ]
  },
  {
   "cell_type": "markdown",
   "id": "f5af0d93-f406-44b2-ad30-51467cce54c6",
   "metadata": {},
   "source": [
    "## Programmation en Python\n",
    "On va implémenter ces méthodes et les tester avec $F(t,y) =-2.3 y$, par exemple sur $[0,10]$ avec $y_0= 1$. La solution exacte est alors $t \\mapsto exp (-2.3 t)$.\n",
    "\n",
    "Pour la méthode d'Euler implicite, on doit retrouver la relation de récurrence suivante :\n",
    "$$y_{i+1} = \\dfrac{1}{1 + 2.3h} y_i$$\n"
   ]
  },
  {
   "cell_type": "code",
   "execution_count": null,
   "id": "14a6dae0-08b5-4ebd-b8ed-2d8612f958d5",
   "metadata": {},
   "outputs": [],
   "source": [
    "\n"
   ]
  },
  {
   "cell_type": "code",
   "execution_count": null,
   "id": "ecabec8d-2db3-4e26-83ae-1ca628d0a402",
   "metadata": {},
   "outputs": [],
   "source": [
    "\n"
   ]
  },
  {
   "cell_type": "markdown",
   "id": "cc8756fe-fcd9-4f37-83d3-43d287faa901",
   "metadata": {},
   "source": [
    "## Équation différentielles du second ordre\n",
    "Une équation différentielle du second ordre s'écrit: \n",
    "$$\\ddot{y} = F(y, \\dot{y}, t)$$\n",
    "Nous pouvons transformer l'équation différentielle scalaire du second degré en équation différentielle vectorielle du premier degré :\n",
    "\n",
    "$\\pmb{x}= \\left(\\begin{array}{c} y \\\\ \\dot{y} \\end{array}\\right)$, $\\pmb{\\dot{x}} = G(t, \\pmb{x})$\n",
    "\n",
    "Les méthodes décrites précédemment (en dehors de la méthode Euler Implicite) s'appliquent parfaitement au cas vectoriel.\n",
    "\n",
    "### Équation de mouvement : Oscillateur libre amortie\n",
    "\n",
    "On considère un pendule simple qui va osciller d'arrière en avant à cause du champ de gravité de la Terre $g = 9.8 \\ m/s^2$. \n",
    "\n",
    "![](figures/pendule.png)\n",
    "\n",
    "\n",
    "Le pendule a l'équation du mouvement :\n",
    "\n",
    "\\begin{align*}\n",
    "\\ddot{\\theta} &= - sin(\\theta) -0,4 \\times \\dot{\\theta}\n",
    "\\end{align*}\n",
    "Nous allons transformer l'équation différentielle d'ordre 2 en deux équations différentielles d'ordre 1 afin de pouvoir utiliser simplement les méthodes décrites précédemment. En posant $\\omega(t)~=~\\dot{\\theta}(t)$ la vitesse angulaire du pendule, on obtient le système de deux fonctions inconnues suivant :\n",
    "\\begin{align*}\n",
    "\\dot{\\theta} (t) &= \\omega (t) \\\\\n",
    "\\dot{\\omega }(t) &= - sin(\\theta (t)) -0,4 \\times \\omega (t)\n",
    "\\end{align*}\n",
    "d'où\n",
    "$$\\pmb{x}= \\left(\\begin{array}{c} \\theta \\\\ \\omega \\end{array}\\right), \\ \\pmb{\\dot{x}} = G(t, \\pmb{x}) = \\left(\\begin{array}{c} \\omega \\\\ - sin(\\theta) -0,4 \\times \\omega \\end{array}\\right)$$\n",
    "\n",
    "Pour résoudre ce système nous devons connaître les deux conditions initiales suivantes :\n",
    "\\begin{align*}\n",
    "\\theta(t = 0) &= \\theta_0 \\\\\n",
    "\\omega (t = 0) &= 0\n",
    "\\end{align*}\n",
    "\n",
    "### Programmation en Python\n",
    "\n"
   ]
  },
  {
   "cell_type": "code",
   "execution_count": null,
   "id": "06a055a5-1760-402a-a9f1-7f567aa2a623",
   "metadata": {},
   "outputs": [],
   "source": [
    "\n"
   ]
  },
  {
   "cell_type": "code",
   "execution_count": null,
   "id": "3f192cf0-4f7d-46d6-b9f5-cb807a4970dc",
   "metadata": {},
   "outputs": [],
   "source": [
    "\n"
   ]
  }
 ],
 "metadata": {
  "kernelspec": {
   "display_name": "Python 3 (ipykernel)",
   "language": "python",
   "name": "python3"
  },
  "language_info": {
   "codemirror_mode": {
    "name": "ipython",
    "version": 3
   },
   "file_extension": ".py",
   "mimetype": "text/x-python",
   "name": "python",
   "nbconvert_exporter": "python",
   "pygments_lexer": "ipython3",
   "version": "3.9.7"
  }
 },
 "nbformat": 4,
 "nbformat_minor": 5
}

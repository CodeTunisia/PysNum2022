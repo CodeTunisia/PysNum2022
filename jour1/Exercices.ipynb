{
  "cells": [
    {
      "cell_type": "markdown",
      "metadata": {
        "id": "view-in-github",
        "colab_type": "text"
      },
      "source": [
        "<a href=\"https://colab.research.google.com/github/CodeTunisia/PysNum2022/blob/main/jour1/Exercices.ipynb\" target=\"_parent\"><img src=\"https://colab.research.google.com/assets/colab-badge.svg\" alt=\"Open In Colab\"/></a>"
      ]
    },
    {
      "cell_type": "markdown",
      "metadata": {
        "id": "puSy1szV9vA5"
      },
      "source": [
        "# Exercices : Bibliothèques numpy et matplotlib "
      ]
    },
    {
      "cell_type": "code",
      "execution_count": null,
      "metadata": {
        "id": "EQlMBl7T9vA7"
      },
      "outputs": [],
      "source": [
        "import numpy as np\n",
        "import matplotlib.pyplot as plt"
      ]
    },
    {
      "cell_type": "markdown",
      "metadata": {
        "id": "SYd6a3DJ9vA9"
      },
      "source": [
        "## Exercice 1 : Courbes paramétriques\n",
        "Écrire les programmes Python qui tracent les courbes $y = f(x)$ suivantes:\n",
        "\n",
        "* **Q1.** La Lemniscate de Bernoulli $\\left\\{\n",
        "\\begin{array}{ll}\n",
        "x(t) = \\dfrac{sin(t)}{1 + cos^2(t)}&\\\\\n",
        "y(t) =\\dfrac{sin(t) \\times cos(t)}{1 + cos^2(t)}&\n",
        "\\end{array} \n",
        "\\right.$ pour $ t\\in[0, 2\\pi]$."
      ]
    },
    {
      "cell_type": "code",
      "execution_count": null,
      "metadata": {
        "id": "kVPTDXtp9vA-"
      },
      "outputs": [],
      "source": [
        "# Lemniscate de Bernoulli\n"
      ]
    },
    {
      "cell_type": "markdown",
      "metadata": {
        "id": "kksYdHcm9vA_"
      },
      "source": [
        "* **Q2.** La spirale d'Archimède $\n",
        "\\left\\{\n",
        "\\begin{array}{ll}\n",
        "x(t) = t \\times cos(t)&\\\\\n",
        "y(t) =t \\times sin(t)&\n",
        "\\end{array} \n",
        "\\right.$ \n",
        "pour $ t\\in[0, 10\\pi]$."
      ]
    },
    {
      "cell_type": "code",
      "execution_count": null,
      "metadata": {
        "id": "rpn-CyFM9vBA"
      },
      "outputs": [],
      "source": [
        "# La spirale d'Archimède"
      ]
    },
    {
      "cell_type": "markdown",
      "metadata": {
        "id": "ls8iIO099vBB"
      },
      "source": [
        "* **Q3.** La courbe du coeur $\n",
        "\\left\\{\n",
        "\\begin{array}{ll}\n",
        "x(t) = 6 \\times sin^3(t)&\\\\\n",
        "y(t) = 13 * cos(t)- 5 \\times cos(2t)-2 \\times cos(3t)-cos(4t)&\n",
        "\\end{array} \n",
        "\\right.$ \n",
        "pour $ t\\in[0, 2\\pi]$."
      ]
    },
    {
      "cell_type": "code",
      "execution_count": null,
      "metadata": {
        "id": "6CiFZgCX9vBB"
      },
      "outputs": [],
      "source": [
        "# La courbe du coeur"
      ]
    },
    {
      "cell_type": "markdown",
      "metadata": {
        "id": "2gTu793m9vBC"
      },
      "source": [
        "* **Q4.** Les cyclo-harmoniques $\n",
        "\\left\\{\n",
        "\\begin{array}{ll}\n",
        "x(t) = \\left( 1 + cos(\\dfrac{p}{q}t)\\right) \\times cos(t) &\\\\\n",
        "y(t) = \\left( 1 + cos(\\dfrac{p}{q}t)\\right) \\times sin(t)&\n",
        "\\end{array} \n",
        "\\right.$ \n",
        "pour $p$ et $q$ entiers positifs et $ t\\in[0, 2 q \\pi]$."
      ]
    },
    {
      "cell_type": "code",
      "execution_count": null,
      "metadata": {
        "tags": [],
        "id": "lICIpdIu9vBD"
      },
      "outputs": [],
      "source": [
        "def CycloHarmonique(p = 8, q = 3):\n",
        "    # Cyclo-harmonique\n",
        "    #............."
      ]
    },
    {
      "cell_type": "markdown",
      "metadata": {
        "id": "67_VqTVn9vBE"
      },
      "source": [
        "## Exercice 2 : Implémenter une fonction gaussienne\n",
        "\n",
        "\n",
        "**Q1.** Créer la fonction: `gauss(x, m = 0, s = 1)`, qui modélise la gaussienne:\n",
        "$$\n",
        "f(x) =\n",
        "{1\\over\\sqrt{2\\pi }\\, s}\n",
        "\\exp{\\left[-\\frac{1}{2}\\left({x-m\\over s}\\right)^2\\right]}\n",
        "\\label{_auto1} \n",
        "$$"
      ]
    },
    {
      "cell_type": "code",
      "execution_count": null,
      "metadata": {
        "id": "rLtMnzFQ9vBE"
      },
      "outputs": [],
      "source": [
        ""
      ]
    },
    {
      "cell_type": "markdown",
      "metadata": {
        "id": "-P35FESR9vBF"
      },
      "source": [
        "**Q2.** Créer un tableau `x` à l'aide de la fonction `linspace`, du module `numpy`, pour `100` valeurs `x` uniformément espacées dans `[-10, 10]`."
      ]
    },
    {
      "cell_type": "code",
      "execution_count": null,
      "metadata": {
        "id": "D058KRdE9vBF"
      },
      "outputs": [],
      "source": [
        ""
      ]
    },
    {
      "cell_type": "markdown",
      "metadata": {
        "id": "RUbSru_g9vBF"
      },
      "source": [
        "**Q3.** Écrire les instructions pour tracer le graphique ci-dessous à l’aide de la bibliothèque `matplotlib`.\n",
        "\n",
        "![](https://github.com/CodeTunisia/PysNum2022/blob/main/jour1/imgs/gaussian.png?raw=1)"
      ]
    },
    {
      "cell_type": "code",
      "execution_count": null,
      "metadata": {
        "id": "S4aRZN5L9vBG"
      },
      "outputs": [],
      "source": [
        ""
      ]
    },
    {
      "cell_type": "markdown",
      "metadata": {
        "id": "3QmfE-t49vBG"
      },
      "source": [
        "## Exercice 3 : Fonctions spéciales (intégrales de Fresnel et spirale de Cornu)\n",
        "Les intégrales de Fresnel ont été introduites par le physicien français Augustin Fresnel (1788-1827) lors de ses travaux sur les interférences lumineuses (voici un article intéressant à lire: \"Fresnel, des Mathématiques en Lumière\": \"http://www.mathouriste.eu/Fresnel/Fresnel.html\").\n",
        "\n",
        "Ces intégrales doivent être calculées numériquement à partir des développements en série des intégrales:\n",
        "\n",
        "$$\\int_{0}^{x} e^{-i\\frac{\\pi t^{2}}{2}} dt = \\int_{0}^{x} cos(t^2) dt -i \\int_{0}^{x} sin(t^2) dt= C(x) -i S(x)$$\n",
        "\n",
        "Les fonctions de Fresnel sont des fonctions spéciales, définies par:\n",
        "\n",
        "Pour $x \\geq \\sqrt{\\frac{8}{\\pi}}$\n",
        "$$\n",
        "\\begin{equation*}\n",
        "\\begin{aligned}\n",
        "C(x) &= \\frac{1}{2} + \\cos\\left(\\frac{\\pi x^{2}}{2}\\right) gg1 + \\sin\\left(\\frac{\\pi x^{2}}{2}\\right) ff1\\\\\n",
        "S(x) &=  \\frac{1}{2} - \\cos\\left(\\frac{\\pi x^{2}}{2}\\right) ff1 + \\sin\\left(\\frac{\\pi x^{2}}{2}\\right) gg1\n",
        "\\end{aligned}\n",
        "\\end{equation*}\n",
        "$$\n",
        "et pour $0 \\leq x < \\sqrt{\\frac{8}{\\pi}}$\n",
        "$$\n",
        "\\begin{equation*}\n",
        "\\begin{aligned}\n",
        "C(x) &= \\cos\\left(\\frac{\\pi x^{2}}{2}\\right) gg2 + \\sin\\left(\\frac{\\pi x^{2}}{2}\\right) ff2 \\\\\n",
        "S(x) &= - \\cos\\left(\\frac{\\pi x^{2}}{2}\\right) ff2 + \\sin\\left(\\frac{\\pi x^{2}}{2}\\right) gg2\n",
        "\\end{aligned}\n",
        "\\end{equation*}\n",
        "$$\n",
        "Où:\n",
        "$$\n",
        "\\begin{equation*}\n",
        "\\begin{aligned}\n",
        "ff1 = \\sum\\limits_{n=0}^{11} \\frac{d_{n}}{x^{2n+1}}\\left(\\frac{8}{\\pi}\\right)^{n+1/2} & gg1 = \\sum\\limits_{n=0}^{11} \\frac{c_{n}}{x^{2n+1}}\\left(\\frac{8}{\\pi}\\right)^{n+1/2}\\\\\n",
        "ff2 = \\sum\\limits_{n=0}^{11} b_{n}x^{2n+1}\\left(\\frac{\\pi}{8}\\right)^{n+1/2} & gg2 = \\sum\\limits_{n=0}^{11} a_{n}x^{2n+1}\\left(\\frac{\\pi}{8}\\right)^{n+1/2}\n",
        "\\end{aligned}\n",
        "\\end{equation*}\n",
        "$$\n",
        "et $a_n$, $b_n$, $c_n$ et $d_n$ sont des coefficients tabulés  (\"*J.Boersma Math Computation 14,380(1960)*\": \"https://www.ams.org/journals/mcom/1960-14-072/S0025-5718-1960-0121973-3/S0025-5718-1960-0121973-3.pdf\") et donnés dans un fichier **coef.dat**:\n"
      ]
    },
    {
      "cell_type": "code",
      "source": [
        "# Exécuter pour télécharger le fichier\n",
        "!wget https://raw.githubusercontent.com/CodeTunisia/PysNum2022/main/jour1/coef.dat"
      ],
      "metadata": {
        "id": "-g87Uldl96M0",
        "outputId": "c57ac072-4d24-4647-df78-86b450f3ce2f",
        "colab": {
          "base_uri": "https://localhost:8080/"
        }
      },
      "execution_count": 4,
      "outputs": [
        {
          "output_type": "stream",
          "name": "stdout",
          "text": [
            "--2022-03-14 01:09:33--  https://raw.githubusercontent.com/CodeTunisia/PysNum2022/main/jour1/coef.dat\n",
            "Resolving raw.githubusercontent.com (raw.githubusercontent.com)... 185.199.108.133, 185.199.109.133, 185.199.110.133, ...\n",
            "Connecting to raw.githubusercontent.com (raw.githubusercontent.com)|185.199.108.133|:443... connected.\n",
            "HTTP request sent, awaiting response... 200 OK\n",
            "Length: 834 [text/plain]\n",
            "Saving to: ‘coef.dat.1’\n",
            "\n",
            "\rcoef.dat.1            0%[                    ]       0  --.-KB/s               \rcoef.dat.1          100%[===================>]     834  --.-KB/s    in 0s      \n",
            "\n",
            "2022-03-14 01:09:33 (23.4 MB/s) - ‘coef.dat.1’ saved [834/834]\n",
            "\n"
          ]
        }
      ]
    },
    {
      "cell_type": "markdown",
      "metadata": {
        "id": "NqtM28rQ9vBH"
      },
      "source": [
        "        #--------------------------------------------------\n",
        "        #    an            bn          cn           dn\n",
        "        #--------------------------------------------------\n",
        "        +1.595769140 -0.000000033 -0.000000000 +0.199471140\n",
        "        -0.000001702 +4.255387524 -0.024933975 +0.000000023\n",
        "        -6.808568854 -0.000092810 +0.000003936 -0.009351341\n",
        "        -0.000576361 -7.780020400 +0.005770956 +0.000023006\n",
        "        +6.920691902 -0.009520895 +0.000689892 +0.004851466\n",
        "        -0.016898657 +5.075161298 -0.009497136 +0.001903218\n",
        "        -3.050485660 -0.138341947 +0.011948809 -0.017122914\n",
        "        -0.075752419 -1.363729124 -0.006748873 +0.029064067\n",
        "        +0.850663781 -0.403349276 +0.000246420 -0.027928955\n",
        "        -0.025639041 +0.702222016 +0.002102967 +0.016497308\n",
        "        -0.150230960 -0.216195929 -0.001217930 -0.005598515\n",
        "        +0.034404779 +0.019547031 +0.000233939 +0.000838386"
      ]
    },
    {
      "cell_type": "markdown",
      "metadata": {
        "id": "MBet73_d9vBI"
      },
      "source": [
        "Écrire un programme Python qui calcule les fonctions de Fresnel $C(x)$ et $S(x)$ ainsi que leurs représentations graphiques:\n",
        "\n",
        "**a)**\n",
        "Définir les fonctions `ff1(x)`, `gg1(x)`, `ff2(x)` et `gg2(x)`. Chaque fonction renvoie la valeur de la somme qui lui correspond."
      ]
    },
    {
      "cell_type": "code",
      "execution_count": null,
      "metadata": {
        "id": "dAUupn_W9vBI"
      },
      "outputs": [],
      "source": [
        ""
      ]
    },
    {
      "cell_type": "markdown",
      "metadata": {
        "id": "c9Kr8zFx9vBI"
      },
      "source": [
        "**b)**\n",
        "Définir les fonctions Python `C(x)` et `S(x)` qui renvoient respectivement les listes, les valeurs de $C(x)$ et $S(x)$, `CF` et` SF` (en utilisant une boucle `for` pour remplir les listes par exemple)."
      ]
    },
    {
      "cell_type": "code",
      "execution_count": null,
      "metadata": {
        "id": "e9U96NJ09vBJ"
      },
      "outputs": [],
      "source": [
        ""
      ]
    },
    {
      "cell_type": "markdown",
      "metadata": {
        "id": "d0qmq3Zs9vBJ"
      },
      "source": [
        "**c)**\n",
        "Créer des tableaux `an`, `bn`, `cn` et `dn` à partir du fichier *coef.dat*.\n"
      ]
    },
    {
      "cell_type": "code",
      "execution_count": null,
      "metadata": {
        "id": "FRKx-ONo9vBJ"
      },
      "outputs": [],
      "source": [
        ""
      ]
    },
    {
      "cell_type": "markdown",
      "metadata": {
        "id": "tYKt5UiB9vBJ"
      },
      "source": [
        "**d)**\n",
        "Créer un tableau `x`. Utilisez 800 intervalles pour évaluer les points dans [0,10] (cas où $x \\geq 0$)."
      ]
    },
    {
      "cell_type": "code",
      "execution_count": null,
      "metadata": {
        "id": "nlavftLu9vBJ"
      },
      "outputs": [],
      "source": [
        ""
      ]
    },
    {
      "cell_type": "markdown",
      "metadata": {
        "id": "jTl1YZBZ9vBK"
      },
      "source": [
        "**e)**\n",
        "Transformer `C(x)` et `S(x)` en tableaux `numpy`, respectivement `CF` et `SF`."
      ]
    },
    {
      "cell_type": "code",
      "execution_count": null,
      "metadata": {
        "id": "hCXOWPbA9vBL"
      },
      "outputs": [],
      "source": [
        ""
      ]
    },
    {
      "cell_type": "markdown",
      "metadata": {
        "id": "pnwbQBYW9vBL"
      },
      "source": [
        "**f)**\n",
        "Tracer une grille de figures à 2 colonnes dont le graphique de gauche représente `CF` et `SF` en fonction de `x` et le graphique de droite représente une clothoïde (ou spirale de Cornu, ou Spirale de Fresnel..)`SF` en fonction de `CF`.\n",
        "La sortie de ce programme devrait être comme suit:\n",
        "\n",
        "![](https://github.com/CodeTunisia/PysNum2022/blob/main/jour1/imgs/fresnel.png?raw=1)\n"
      ]
    },
    {
      "cell_type": "code",
      "execution_count": null,
      "metadata": {
        "id": "wxdRBnNs9vBL"
      },
      "outputs": [],
      "source": [
        ""
      ]
    },
    {
      "cell_type": "markdown",
      "metadata": {
        "id": "jd_0idkg9vBL"
      },
      "source": [
        "# Exercice 4 : Diffraction par ouverture rectangulaire\n",
        "\n",
        "Considérons un faisceau de lumière monochromatique de longueur d'onde $\\lambda$ éclairant une ouverture rectangulaire située dans un plan $(xOy)$. La largeur de l'ouverture $b$ est dans la direction $x$ et sa hauteur $h$ est dans la direction $y$.\n",
        "\n",
        "L'intensité normalisée de lumière en un point $M$ situé sur un écran ($E$) et à une distance $D$ de la fente peut s'écrire comme suit :\n",
        "\n",
        "$$\n",
        "\\dfrac{I(x_{M}, y_{M})}{I_{0}} = \\text{sinc}^{2}\\left (B \\cdot x_{M} \\right)\\,\\text{sinc}^{2}  \\left ( H \\cdot y_{M} \\right )\n",
        "$$\n",
        "\n",
        "où $H = \\frac{\\pi h}{\\lambda D}$, $B = \\frac{\\pi b}{\\lambda D}$.\n",
        "\n",
        "\n",
        "* La largeur de la tache centrale dans la direction $x$ est inversement proportionnelle à la largeur de l'ouverture: $\\Delta x = \\frac{2 \\lambda D}{b}$;\n",
        "* La largeur de la tache centrale dans la direction $y$ est inversement proportionnelle à la hauteur de l'ouverture : $\\Delta y = \\frac{2 \\lambda D}{h}$.\n",
        "\n",
        "\n",
        "Écrire la fonction Python `DiffRect(lamda, b, h, D)` qui calcul $\\Delta x$ et $\\Delta y$ et affiche la figure de diffraction :\n",
        "\n",
        "```python\n",
        ">>> DiffRect(lamda= 630*1.E-9, b= 2*1.E-5, h= 4*1.E-5, D= 2)\n",
        "La largeur de la tache centrale dans la direction x :  12.6\n",
        "La largeur de la tache centrale dans la direction y :  6.3\n",
        "```\n",
        "\n",
        "![](https://github.com/CodeTunisia/PysNum2022/blob/main/jour1/imgs/Diffraction.png?raw=1)\n",
        "\n",
        "**Indications :**\n",
        "\n",
        "* `X,Y = np.meshgrid(x,y)`, avec \\verb|x| et \\verb|y| sont deux tableaux \\verb|numpy|, est très utile pour évaluer des fonctions sur une grille.\n",
        "* `plt.imshow(I, cmap='gray', vmin=0, vmax=.005)` afficher une image, à savoir des données sur une trame régulière 2D."
      ]
    },
    {
      "cell_type": "code",
      "execution_count": null,
      "metadata": {
        "id": "TCnGTsvM9vBL"
      },
      "outputs": [],
      "source": [
        ""
      ]
    }
  ],
  "metadata": {
    "kernelspec": {
      "display_name": "Python 3 (ipykernel)",
      "language": "python",
      "name": "python3"
    },
    "language_info": {
      "codemirror_mode": {
        "name": "ipython",
        "version": 3
      },
      "file_extension": ".py",
      "mimetype": "text/x-python",
      "name": "python",
      "nbconvert_exporter": "python",
      "pygments_lexer": "ipython3",
      "version": "3.9.7"
    },
    "colab": {
      "name": "Exercices.ipynb",
      "provenance": [],
      "include_colab_link": true
    }
  },
  "nbformat": 4,
  "nbformat_minor": 0
}
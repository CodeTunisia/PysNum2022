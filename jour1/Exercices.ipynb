{
 "cells": [
  {
   "cell_type": "markdown",
   "metadata": {},
   "source": [
    "# Exercices : Bibliothèques numpy et matplotlib "
   ]
  },
  {
   "cell_type": "code",
   "execution_count": 1,
   "metadata": {},
   "outputs": [],
   "source": [
    "import numpy as np\n",
    "import matplotlib.pyplot as plt"
   ]
  },
  {
   "cell_type": "markdown",
   "metadata": {},
   "source": [
    "## Exercice 1 : Courbes paramétriques\n",
    "Écrire les programmes Python qui tracent les courbes $y = f(x)$ suivantes:\n",
    "\n",
    "* **Q1.** La Lemniscate de Bernoulli $\\left\\{\n",
    "\\begin{array}{ll}\n",
    "x(t) = \\dfrac{sin(t)}{1 + cos^2(t)}&\\\\\n",
    "y(t) =\\dfrac{sin(t) \\times cos(t)}{1 + cos^2(t)}&\n",
    "\\end{array} \n",
    "\\right.$ pour $ t\\in[0, 2\\pi]$."
   ]
  },
  {
   "cell_type": "code",
   "execution_count": 1,
   "metadata": {},
   "outputs": [],
   "source": [
    "# Lemniscate de Bernoulli\n"
   ]
  },
  {
   "cell_type": "markdown",
   "metadata": {},
   "source": [
    "* **Q2.** La spirale d'Archimède $\n",
    "\\left\\{\n",
    "\\begin{array}{ll}\n",
    "x(t) = t \\times cos(t)&\\\\\n",
    "y(t) =t \\times sin(t)&\n",
    "\\end{array} \n",
    "\\right.$ \n",
    "pour $ t\\in[0, 10\\pi]$."
   ]
  },
  {
   "cell_type": "code",
   "execution_count": 6,
   "metadata": {},
   "outputs": [],
   "source": [
    "# La spirale d'Archimède"
   ]
  },
  {
   "cell_type": "markdown",
   "metadata": {},
   "source": [
    "* **Q3.** La courbe du coeur $\n",
    "\\left\\{\n",
    "\\begin{array}{ll}\n",
    "x(t) = 6 \\times sin^3(t)&\\\\\n",
    "y(t) = 13 * cos(t)- 5 \\times cos(2t)-2 \\times cos(3t)-cos(4t)&\n",
    "\\end{array} \n",
    "\\right.$ \n",
    "pour $ t\\in[0, 2\\pi]$."
   ]
  },
  {
   "cell_type": "code",
   "execution_count": 7,
   "metadata": {},
   "outputs": [],
   "source": [
    "# La courbe du coeur"
   ]
  },
  {
   "cell_type": "markdown",
   "metadata": {},
   "source": [
    "* **Q4.** Les cyclo-harmoniques $\n",
    "\\left\\{\n",
    "\\begin{array}{ll}\n",
    "x(t) = \\left( 1 + cos(\\dfrac{p}{q}t)\\right) \\times cos(t) &\\\\\n",
    "y(t) = \\left( 1 + cos(\\dfrac{p}{q}t)\\right) \\times sin(t)&\n",
    "\\end{array} \n",
    "\\right.$ \n",
    "pour $p$ et $q$ entiers positifs et $ t\\in[0, 2 q \\pi]$."
   ]
  },
  {
   "cell_type": "code",
   "execution_count": 8,
   "metadata": {
    "tags": []
   },
   "outputs": [],
   "source": [
    "def CycloHarmonique(p = 8, q = 3):\n",
    "    # Cyclo-harmonique\n",
    "    #............."
   ]
  },
  {
   "cell_type": "markdown",
   "metadata": {},
   "source": [
    "## Exercice 2 : Implémenter une fonction gaussienne\n",
    "\n",
    "\n",
    "**Q1.** Créer la fonction: `gauss(x, m = 0, s = 1)`, qui modélise la gaussienne:\n",
    "$$\n",
    "f(x) =\n",
    "{1\\over\\sqrt{2\\pi }\\, s}\n",
    "\\exp{\\left[-\\frac{1}{2}\\left({x-m\\over s}\\right)^2\\right]}\n",
    "\\label{_auto1} \n",
    "$$"
   ]
  },
  {
   "cell_type": "code",
   "execution_count": 31,
   "metadata": {},
   "outputs": [],
   "source": []
  },
  {
   "cell_type": "markdown",
   "metadata": {},
   "source": [
    "**Q2.** Créer un tableau `x` à l'aide de la fonction `linspace`, du module `numpy`, pour `100` valeurs `x` uniformément espacées dans `[-10, 10]`."
   ]
  },
  {
   "cell_type": "code",
   "execution_count": 32,
   "metadata": {},
   "outputs": [],
   "source": []
  },
  {
   "cell_type": "markdown",
   "metadata": {},
   "source": [
    "**Q3.** Écrire les instructions pour tracer le graphique ci-dessous à l’aide de la bibliothèque `matplotlib`.\n",
    "\n",
    "![](./imgs/gaussian.png)"
   ]
  },
  {
   "cell_type": "code",
   "execution_count": null,
   "metadata": {},
   "outputs": [],
   "source": []
  },
  {
   "cell_type": "markdown",
   "metadata": {},
   "source": [
    "## Exercice 3 : Fonctions spéciales (intégrales de Fresnel et spirale de Cornu)\n",
    "Les intégrales de Fresnel ont été introduites par le physicien français Augustin Fresnel (1788-1827) lors de ses travaux sur les interférences lumineuses (voici un article intéressant à lire: \"Fresnel, des Mathématiques en Lumière\": \"http://www.mathouriste.eu/Fresnel/Fresnel.html\").\n",
    "\n",
    "Ces intégrales doivent être calculées numériquement à partir des développements en série des intégrales:\n",
    "\n",
    "$$\\int_{0}^{x} e^{-i\\frac{\\pi t^{2}}{2}} dt = \\int_{0}^{x} cos(t^2) dt -i \\int_{0}^{x} sin(t^2) dt= C(x) -i S(x)$$\n",
    "\n",
    "Les fonctions de Fresnel sont des fonctions spéciales, définies par:\n",
    "\n",
    "Pour $x \\geq \\sqrt{\\frac{8}{\\pi}}$\n",
    "$$\n",
    "\\begin{equation*}\n",
    "\\begin{aligned}\n",
    "C(x) &= \\frac{1}{2} + \\cos\\left(\\frac{\\pi x^{2}}{2}\\right) gg1 + \\sin\\left(\\frac{\\pi x^{2}}{2}\\right) ff1\\\\\n",
    "S(x) &=  \\frac{1}{2} - \\cos\\left(\\frac{\\pi x^{2}}{2}\\right) ff1 + \\sin\\left(\\frac{\\pi x^{2}}{2}\\right) gg1\n",
    "\\end{aligned}\n",
    "\\end{equation*}\n",
    "$$\n",
    "et pour $0 \\leq x < \\sqrt{\\frac{8}{\\pi}}$\n",
    "$$\n",
    "\\begin{equation*}\n",
    "\\begin{aligned}\n",
    "C(x) &= \\cos\\left(\\frac{\\pi x^{2}}{2}\\right) gg2 + \\sin\\left(\\frac{\\pi x^{2}}{2}\\right) ff2 \\\\\n",
    "S(x) &= - \\cos\\left(\\frac{\\pi x^{2}}{2}\\right) ff2 + \\sin\\left(\\frac{\\pi x^{2}}{2}\\right) gg2\n",
    "\\end{aligned}\n",
    "\\end{equation*}\n",
    "$$\n",
    "Où:\n",
    "$$\n",
    "\\begin{equation*}\n",
    "\\begin{aligned}\n",
    "ff1 = \\sum\\limits_{n=0}^{11} \\frac{d_{n}}{x^{2n+1}}\\left(\\frac{8}{\\pi}\\right)^{n+1/2} & gg1 = \\sum\\limits_{n=0}^{11} \\frac{c_{n}}{x^{2n+1}}\\left(\\frac{8}{\\pi}\\right)^{n+1/2}\\\\\n",
    "ff2 = \\sum\\limits_{n=0}^{11} b_{n}x^{2n+1}\\left(\\frac{\\pi}{8}\\right)^{n+1/2} & gg2 = \\sum\\limits_{n=0}^{11} a_{n}x^{2n+1}\\left(\\frac{\\pi}{8}\\right)^{n+1/2}\n",
    "\\end{aligned}\n",
    "\\end{equation*}\n",
    "$$\n",
    "et $a_n$, $b_n$, $c_n$ et $d_n$ sont des coefficients tabulés  (\"*J.Boersma Math Computation 14,380(1960)*\": \"https://www.ams.org/journals/mcom/1960-14-072/S0025-5718-1960-0121973-3/S0025-5718-1960-0121973-3.pdf\") et donnés dans un fichier **coef.dat**:\n"
   ]
  },
  {
   "cell_type": "markdown",
   "metadata": {},
   "source": [
    "        #--------------------------------------------------\n",
    "        #    an            bn          cn           dn\n",
    "        #--------------------------------------------------\n",
    "        +1.595769140 -0.000000033 -0.000000000 +0.199471140\n",
    "        -0.000001702 +4.255387524 -0.024933975 +0.000000023\n",
    "        -6.808568854 -0.000092810 +0.000003936 -0.009351341\n",
    "        -0.000576361 -7.780020400 +0.005770956 +0.000023006\n",
    "        +6.920691902 -0.009520895 +0.000689892 +0.004851466\n",
    "        -0.016898657 +5.075161298 -0.009497136 +0.001903218\n",
    "        -3.050485660 -0.138341947 +0.011948809 -0.017122914\n",
    "        -0.075752419 -1.363729124 -0.006748873 +0.029064067\n",
    "        +0.850663781 -0.403349276 +0.000246420 -0.027928955\n",
    "        -0.025639041 +0.702222016 +0.002102967 +0.016497308\n",
    "        -0.150230960 -0.216195929 -0.001217930 -0.005598515\n",
    "        +0.034404779 +0.019547031 +0.000233939 +0.000838386"
   ]
  },
  {
   "cell_type": "markdown",
   "metadata": {},
   "source": [
    "Écrire un programme Python qui calcule les fonctions de Fresnel $C(x)$ et $S(x)$ ainsi que leurs représentations graphiques:\n",
    "\n",
    "**a)**\n",
    "Définir les fonctions `ff1(x)`, `gg1(x)`, `ff2(x)` et `gg2(x)`. Chaque fonction renvoie la valeur de la somme qui lui correspond."
   ]
  },
  {
   "cell_type": "code",
   "execution_count": null,
   "metadata": {},
   "outputs": [],
   "source": []
  },
  {
   "cell_type": "markdown",
   "metadata": {},
   "source": [
    "**b)**\n",
    "Définir les fonctions Python `C(x)` et `S(x)` qui renvoient respectivement les listes, les valeurs de $C(x)$ et $S(x)$, `CF` et` SF` (en utilisant une boucle `for` pour remplir les listes par exemple)."
   ]
  },
  {
   "cell_type": "code",
   "execution_count": null,
   "metadata": {},
   "outputs": [],
   "source": []
  },
  {
   "cell_type": "markdown",
   "metadata": {},
   "source": [
    "**c)**\n",
    "Créer des tableaux `an`, `bn`, `cn` et `dn` à partir du fichier *coef.dat*.\n"
   ]
  },
  {
   "cell_type": "code",
   "execution_count": null,
   "metadata": {},
   "outputs": [],
   "source": []
  },
  {
   "cell_type": "markdown",
   "metadata": {},
   "source": [
    "**d)**\n",
    "Créer un tableau `x`. Utilisez 800 intervalles pour évaluer les points dans [0,10] (cas où $x \\geq 0$)."
   ]
  },
  {
   "cell_type": "code",
   "execution_count": null,
   "metadata": {},
   "outputs": [],
   "source": []
  },
  {
   "cell_type": "markdown",
   "metadata": {},
   "source": [
    "**e)**\n",
    "Transformer `C(x)` et `S(x)` en tableaux `numpy`, respectivement `CF` et `SF`."
   ]
  },
  {
   "cell_type": "code",
   "execution_count": null,
   "metadata": {},
   "outputs": [],
   "source": []
  },
  {
   "cell_type": "markdown",
   "metadata": {},
   "source": [
    "**f)**\n",
    "Tracer une grille de figures à 2 colonnes dont le graphique de gauche représente `CF` et `SF` en fonction de `x` et le graphique de droite représente une \"clothoïde\": \"https://fr.wikipedia.org/wiki/Clotho%C3%AFde\" (ou spirale de Cornu, ou Spirale de Fresnel..)`SF` en fonction de `CF`.\n",
    "La sortie de ce programme devrait être comme suit:\n",
    "\n",
    "![](./imgs/fresnel.png)\n"
   ]
  },
  {
   "cell_type": "code",
   "execution_count": null,
   "metadata": {},
   "outputs": [],
   "source": []
  },
  {
   "cell_type": "markdown",
   "metadata": {},
   "source": [
    "# Exercice 4 : Diffraction par ouverture rectangulaire\n",
    "\n",
    "Considérons un faisceau de lumière monochromatique de longueur d'onde $\\lambda$ éclairant une ouverture rectangulaire située dans un plan $(xOy)$. La largeur de l'ouverture $b$ est dans la direction $x$ et sa hauteur $h$ est dans la direction $y$.\n",
    "\n",
    "L'intensité normalisée de lumière en un point $M$ situé sur un écran ($E$) et à une distance $D$ de la fente peut s'écrire comme suit :\n",
    "\n",
    "$$\n",
    "\\dfrac{I(x_{M}, y_{M})}{I_{0}} = \\text{sinc}^{2}\\left (B \\cdot x_{M} \\right)\\,\\text{sinc}^{2}  \\left ( H \\cdot y_{M} \\right )\n",
    "$$\n",
    "\n",
    "où $H = \\frac{\\pi h}{\\lambda D}$, $B = \\frac{\\pi b}{\\lambda D}$.\n",
    "\n",
    "\n",
    "* La largeur de la tache centrale dans la direction $x$ est inversement proportionnelle à la largeur de l'ouverture: $\\Delta x = \\frac{2 \\lambda D}{b}$;\n",
    "* La largeur de la tache centrale dans la direction $y$ est inversement proportionnelle à la hauteur de l'ouverture : $\\Delta y = \\frac{2 \\lambda D}{h}$.\n",
    "\n",
    "\n",
    "Écrire la fonction Python `DiffRect(lamda, b, h, D)` qui calcul $\\Delta x$ et $\\Delta y$ et affiche la figure de diffraction :\n",
    "\n",
    "```python\n",
    ">>> DiffRect(lamda= 630*1.E-9, b= 2*1.E-5, h= 4*1.E-5, D= 2)\n",
    "La largeur de la tache centrale dans la direction x :  12.6\n",
    "La largeur de la tache centrale dans la direction y :  6.3\n",
    "```\n",
    "\n",
    "![](./imgs/Diffraction.png)\n",
    "\n",
    "**Indications :**\n",
    "\n",
    "* `X,Y = np.meshgrid(x,y)`, avec \\verb|x| et \\verb|y| sont deux tableaux \\verb|numpy|, est très utile pour évaluer des fonctions sur une grille.\n",
    "* `plt.imshow(I, cmap='gray', vmin=0, vmax=.005)` afficher une image, à savoir des données sur une trame régulière 2D."
   ]
  },
  {
   "cell_type": "code",
   "execution_count": null,
   "metadata": {},
   "outputs": [],
   "source": []
  }
 ],
 "metadata": {
  "kernelspec": {
   "display_name": "Python 3 (ipykernel)",
   "language": "python",
   "name": "python3"
  },
  "language_info": {
   "codemirror_mode": {
    "name": "ipython",
    "version": 3
   },
   "file_extension": ".py",
   "mimetype": "text/x-python",
   "name": "python",
   "nbconvert_exporter": "python",
   "pygments_lexer": "ipython3",
   "version": "3.9.7"
  }
 },
 "nbformat": 4,
 "nbformat_minor": 4
}

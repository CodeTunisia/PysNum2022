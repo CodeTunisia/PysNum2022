{
 "cells": [
  {
   "cell_type": "markdown",
   "metadata": {},
   "source": [
    "# Bibliothèques numpy et matplotlib "
   ]
  },
  {
   "cell_type": "code",
   "execution_count": 1,
   "metadata": {},
   "outputs": [],
   "source": [
    "import numpy as np\n",
    "import matplotlib.pyplot as plt"
   ]
  },
  {
   "cell_type": "markdown",
   "metadata": {},
   "source": [
    "## Exercice 1 : Courbes paramétriques\n",
    "Écrire les programmes Python qui tracent les courbes $y = f(x)$ suivantes:\n",
    "\n",
    "* **Q1.** La Lemniscate de Bernoulli $\\left\\{\n",
    "\\begin{array}{ll}\n",
    "x(t) = \\dfrac{sin(t)}{1 + cos^2(t)}&\\\\\n",
    "y(t) =\\dfrac{sin(t) \\times cos(t)}{1 + cos^2(t)}&\n",
    "\\end{array} \n",
    "\\right.$ pour $ t\\in[0, 2\\pi]$."
   ]
  },
  {
   "cell_type": "code",
   "execution_count": 15,
   "metadata": {},
   "outputs": [
    {
     "data": {
      "image/png": "[encoded data removed]",
      "text/plain": [
       "<Figure size 432x288 with 1 Axes>"
      ]
     },
     "metadata": {
      "needs_background": "light"
     },
     "output_type": "display_data"
    }
   ],
   "source": [
    "# Lemniscate de Bernoulli\n",
    "t = np.linspace(0, 2*np.pi, 400)\n",
    "x = np.sin(t)/(1+np.cos(t)**2)\n",
    "y = x* np.cos(t)\n",
    "plt.plot(x, y)\n",
    "plt.show()"
   ]
  },
  {
   "cell_type": "markdown",
   "metadata": {},
   "source": [
    "* **Q2.** La spirale d'Archimède $\n",
    "\\left\\{\n",
    "\\begin{array}{ll}\n",
    "x(t) = t \\times cos(t)&\\\\\n",
    "y(t) =t \\times sin(t)&\n",
    "\\end{array} \n",
    "\\right.$ \n",
    "pour $ t\\in[0, 10\\pi]$."
   ]
  },
  {
   "cell_type": "code",
   "execution_count": 6,
   "metadata": {},
   "outputs": [],
   "source": [
    "t = ..............\n",
    "def SpiraleArchimede(t):\n",
    "    # La spirale d'Archimède\n",
    "    # .............\n",
    "    #..............."
   ]
  },
  {
   "cell_type": "markdown",
   "metadata": {},
   "source": [
    "* **Q3.** La courbe du coeur $\n",
    "\\left\\{\n",
    "\\begin{array}{ll}\n",
    "x(t) = 6 \\times sin^3(t)&\\\\\n",
    "y(t) = 13 * cos(t)- 5 \\times cos(2t)-2 \\times cos(3t)-cos(4t)&\n",
    "\\end{array} \n",
    "\\right.$ \n",
    "pour $ t\\in[0, 2\\pi]$."
   ]
  },
  {
   "cell_type": "code",
   "execution_count": 7,
   "metadata": {},
   "outputs": [],
   "source": [
    "t = ..............\n",
    "def Courbe2Coeur(t):\n",
    "    # La courbe du coeur\n",
    "    # ............"
   ]
  },
  {
   "cell_type": "markdown",
   "metadata": {},
   "source": [
    "* **Q4.** Les cyclo-harmoniques $\n",
    "\\left\\{\n",
    "\\begin{array}{ll}\n",
    "x(t) = \\left( 1 + cos(\\dfrac{p}{q}t)\\right) \\times cos(t) &\\\\\n",
    "y(t) = \\left( 1 + cos(\\dfrac{p}{q}t)\\right) \\times sin(t)&\n",
    "\\end{array} \n",
    "\\right.$ \n",
    "pour $p$ et $q$ entiers positifs et $ t\\in[0, 2 q \\pi]$."
   ]
  },
  {
   "cell_type": "code",
   "execution_count": 8,
   "metadata": {
    "tags": []
   },
   "outputs": [],
   "source": [
    "t = ..............\n",
    "def CycloHarmonique(t, p = 8, q = 3):\n",
    "    # Cyclo-harmonique\n",
    "    #............."
   ]
  },
  {
   "cell_type": "markdown",
   "metadata": {},
   "source": [
    "## Exercice 2 : Implémenter une fonction gaussienne\n",
    "\n",
    "\n",
    "**Q1.** Créer la fonction: `gauss(x, m = 0, s = 1)`, qui modélise la gaussienne:\n",
    "$$\n",
    "f(x) =\n",
    "{1\\over\\sqrt{2\\pi }\\, s}\n",
    "\\exp{\\left[-\\frac{1}{2}\\left({x-m\\over s}\\right)^2\\right]}\n",
    "\\label{_auto1} \n",
    "$$"
   ]
  },
  {
   "cell_type": "code",
   "execution_count": 31,
   "metadata": {},
   "outputs": [],
   "source": []
  },
  {
   "cell_type": "markdown",
   "metadata": {},
   "source": [
    "**Q2.** Créer un tableau `x` à l'aide de la fonction `linspace`, du module `numpy`, pour `100` valeurs `x` uniformément espacées dans `[-10, 10]`."
   ]
  },
  {
   "cell_type": "code",
   "execution_count": 32,
   "metadata": {},
   "outputs": [],
   "source": []
  },
  {
   "cell_type": "markdown",
   "metadata": {},
   "source": [
    "**Q3.** Écrire les instructions pour tracer le graphique ci-dessous à l’aide de la bibliothèque `matplotlib`.\n",
    "\n",
    "<p>\n",
    "<img src=\"figures/gaussian.png\" width=500>\n",
    "</p>"
   ]
  },
  {
   "cell_type": "code",
   "execution_count": null,
   "metadata": {},
   "outputs": [],
   "source": []
  },
  {
   "cell_type": "markdown",
   "metadata": {},
   "source": [
    "## Exercice 3 : Calculer les niveaux d'énergie dans un atome\n",
    "Le $n^{ième}$ niveau d'énergie d'un électron dans un atome d'hydrogène est donné par:\n",
    "$$\n",
    "E_n = -\\frac{m_e e^4}{8\\epsilon_0^2h^2}\\cdot\\frac{1}{n^2} ,\n",
    "\\label{_auto1}\n",
    "$$\n",
    "où $m_e = 9.1094⋅10^{-31} \\ kg$ est la masse de l'électron, $e = 1.602210^{−19} \\ C$ est la charge élémentaire, $\\epsilon_0 = 8.8542 \\cdot 10^{-12} C^2 s^2 \\ kg^{-1}m^{-3}$ est la permittivité électrique du vide, et $h=6.6261 \\cdot 10^{−34} \\ Js$\n",
    "\n",
    "**a)** Définir la fonction `E(n)` qui retourne la valeur du niveau d’énergie en électron-volt ($eV$).\n",
    "\n",
    "**Hint.** * On vous donne $1 \\ eV = 1.6022 \\dot 10^{-19} \\ J$."
   ]
  },
  {
   "cell_type": "code",
   "execution_count": null,
   "metadata": {},
   "outputs": [],
   "source": []
  },
  {
   "cell_type": "markdown",
   "metadata": {},
   "source": [
    "**b)**\n",
    "* Calculer la valeur du niveau d'énergie le plus bas, `E(n=1)`. A quoi correspond ce niveau d'énergie?\n",
    "\n",
    "* Tester la valeur du niveau d'énergie pour $n \\rightarrow \\infty$. A quoi correspond le niveau d'énergie $E = 0$ eV ?"
   ]
  },
  {
   "cell_type": "code",
   "execution_count": null,
   "metadata": {},
   "outputs": [],
   "source": []
  },
  {
   "cell_type": "markdown",
   "metadata": {},
   "source": [
    "**c)** Écrire une boucle qui calcule et affiche le niveau d'énergie $E_n$ pour $n = 1,…, 20$.\n",
    "\n",
    "**Indication.**\n",
    "Le résultat doit être comme suivant:\n",
    "\n",
    "        E1 = -13.606152702370753 eV\n",
    "        E2 = -3.4015381755926883 eV\n",
    "        ............................\n",
    "        ............................\n",
    "        E19 = -0.03769017369077771 eV\n",
    "        E20 = -0.03401538175592689 eV\n"
   ]
  },
  {
   "cell_type": "code",
   "execution_count": null,
   "metadata": {},
   "outputs": [],
   "source": []
  },
  {
   "cell_type": "markdown",
   "metadata": {},
   "source": [
    "**d)** L'énergie libérée lorsqu'un électron se déplace du niveau ni au niveau nf est donnée par:\n",
    "$$\n",
    "\\Delta E = -\\frac{m_e e^4}{8\\epsilon_0^2h^2}\\cdot\\left( \\frac{1}{n_i^2}-\\frac{1}{n_f^2}\\right)\n",
    "\\label{_auto2}\n",
    "$$\n",
    "Construire et afficher les valeurs de la matrice $\\Delta E^{i,f}$ dont la cellule de la colonne `i` et de la ligne `f` contient l’énergie libérée lorsqu’un électron passe du niveau d’énergie `i` au niveau `f`, pour $i, f = 1, …, 5$.\n",
    "$$\n",
    "\\Delta E^{i,f} = \\begin{pmatrix}\n",
    "\\Delta  E_{1,1}  & \\Delta  E_{1,2}  & \\Delta  E_{1,3}  & \\Delta  E_{1,4}  & \\Delta  E_{1,5} \\\\\\\n",
    "\\Delta E_{2,1}  & \\Delta  E_{2,2}  & \\Delta  E_{2,3}  & \\Delta  E_{2,4}  & \\Delta  E_{2,5} \\\\\\\n",
    "\\Delta E_{3,1}  & \\Delta  E_{3,2}  & \\Delta  E_{3,3}  & \\Delta  E_{3,4}  & \\Delta  E_{3,5} \\\\\\\n",
    "\\Delta E_{4,1}  & \\Delta  E_{4,2}  & \\Delta  E_{4,3}  & \\Delta  E_{4,4}  & \\Delta  E_{4,5} \\\\\\\n",
    "\\Delta E_{5,1}  & \\Delta  E_{5,2}  & \\Delta  E_{5,3}  & \\Delta  E_{5,4}  & \\Delta  E_{5,5}\n",
    "\\end{pmatrix}\n",
    "\\label{_auto3}\n",
    "$$"
   ]
  },
  {
   "cell_type": "code",
   "execution_count": null,
   "metadata": {},
   "outputs": [],
   "source": []
  },
  {
   "cell_type": "markdown",
   "metadata": {},
   "source": [
    "## Exercice 4 : Tracer la viscosité de l'eau\n",
    "\n",
    "La viscosité de l'eau, $\\mu$, varie avec la température $T$ (en Kelvin) selon la formule:\n",
    "$$\n",
    "\\mu (T) = A\\cdot 10^{B/(T-C)}\n",
    "\\label{_auto5}\n",
    "$$\n",
    "où $A=2.414\\cdot 10^{-5}\\hbox{ Pa s}$, $B=247.8 \\ K$ et $C = 140 \\ K$.\n",
    "\n",
    "**a)**\n",
    "Définir la fonction `mu(T, A, B, C)` qui renvoie la valeur de la viscosité $\\mu$ pour chaque valeur donnée de la température $T$.\n",
    "\n"
   ]
  },
  {
   "cell_type": "code",
   "execution_count": null,
   "metadata": {},
   "outputs": [],
   "source": []
  },
  {
   "cell_type": "markdown",
   "metadata": {},
   "source": [
    "**b)**\n",
    "Tracer $\\mu (T)$ pour 20 valeurs de $T$ entre 0 et 100 degrés Celsius. Marquer l'axe des $x$ avec \"Température (degrés Celsius)\", l'axe des $y$ avec \"viscosité (Pa s)\" et le titre \"Évolution de la viscosité de l'eau avec la température\". **Notez que $T$ dans la formule de $\\mu$ doit être en Kelvin**.\n",
    "\n",
    "**Indication.**\n",
    "* On vous donne: 0 deg C = 273 deg K\n",
    "\n",
    "* La sortie du programme devrait ressembler à la figure ci-dessous.\n",
    "\n",
    "<p></p>\n",
    "<img src=\"scripts/viscosity.png\" width=500>\n"
   ]
  },
  {
   "cell_type": "code",
   "execution_count": null,
   "metadata": {},
   "outputs": [],
   "source": []
  },
  {
   "cell_type": "markdown",
   "metadata": {},
   "source": [
    "## Exercice 5 : Fonctions spéciales (intégrales de Fresnel et spirale de Cornu)\n",
    "Les intégrales de Fresnel ont été introduites par le physicien français Augustin Fresnel (1788-1827) lors de ses travaux sur les interférences lumineuses (voici un article intéressant à lire: \"Fresnel, des Mathématiques en Lumière\": \"http://www.mathouriste.eu/Fresnel/Fresnel.html\").\n",
    "\n",
    "Ces intégrales doivent être calculées numériquement à partir des développements en série des intégrales:\n",
    "\n",
    "$$\\int_{0}^{x} e^{-i\\frac{\\pi t^{2}}{2}} dt = \\int_{0}^{x} cos(t^2) dt -i \\int_{0}^{x} sin(t^2) dt= C(x) -i S(x)$$\n",
    "\n",
    "Les fonctions de Fresnel sont des fonctions spéciales, définies par:\n",
    "\n",
    "Pour $x \\geq \\sqrt{\\frac{8}{\\pi}}$\n",
    "$$\n",
    "\\begin{equation*}\n",
    "\\begin{aligned}\n",
    "C(x) &= \\frac{1}{2} + \\cos\\left(\\frac{\\pi x^{2}}{2}\\right) gg1 + \\sin\\left(\\frac{\\pi x^{2}}{2}\\right) ff1\\\\\n",
    "S(x) &=  \\frac{1}{2} - \\cos\\left(\\frac{\\pi x^{2}}{2}\\right) ff1 + \\sin\\left(\\frac{\\pi x^{2}}{2}\\right) gg1\n",
    "\\end{aligned}\n",
    "\\end{equation*}\n",
    "$$\n",
    "et pour $0 \\leq x < \\sqrt{\\frac{8}{\\pi}}$\n",
    "$$\n",
    "\\begin{equation*}\n",
    "\\begin{aligned}\n",
    "C(x) &= \\cos\\left(\\frac{\\pi x^{2}}{2}\\right) gg2 + \\sin\\left(\\frac{\\pi x^{2}}{2}\\right) ff2 \\\\\n",
    "S(x) &= - \\cos\\left(\\frac{\\pi x^{2}}{2}\\right) ff2 + \\sin\\left(\\frac{\\pi x^{2}}{2}\\right) gg2\n",
    "\\end{aligned}\n",
    "\\end{equation*}\n",
    "$$\n",
    "Où:\n",
    "$$\n",
    "\\begin{equation*}\n",
    "\\begin{aligned}\n",
    "ff1 = \\sum\\limits_{n=0}^{11} \\frac{d_{n}}{x^{2n+1}}\\left(\\frac{8}{\\pi}\\right)^{n+1/2} & gg1 = \\sum\\limits_{n=0}^{11} \\frac{c_{n}}{x^{2n+1}}\\left(\\frac{8}{\\pi}\\right)^{n+1/2}\\\\\n",
    "ff2 = \\sum\\limits_{n=0}^{11} b_{n}x^{2n+1}\\left(\\frac{\\pi}{8}\\right)^{n+1/2} & gg2 = \\sum\\limits_{n=0}^{11} a_{n}x^{2n+1}\\left(\\frac{\\pi}{8}\\right)^{n+1/2}\n",
    "\\end{aligned}\n",
    "\\end{equation*}\n",
    "$$\n",
    "et $a_n$, $b_n$, $c_n$ et $d_n$ sont des coefficients tabulés  (\"*J.Boersma Math Computation 14,380(1960)*\": \"https://www.ams.org/journals/mcom/1960-14-072/S0025-5718-1960-0121973-3/S0025-5718-1960-0121973-3.pdf\") et donnés dans un fichier **coef.dat**:\n"
   ]
  },
  {
   "cell_type": "markdown",
   "metadata": {},
   "source": [
    "        #--------------------------------------------------\n",
    "        #    an            bn          cn           dn\n",
    "        #--------------------------------------------------\n",
    "        +1.595769140 -0.000000033 -0.000000000 +0.199471140\n",
    "        -0.000001702 +4.255387524 -0.024933975 +0.000000023\n",
    "        -6.808568854 -0.000092810 +0.000003936 -0.009351341\n",
    "        -0.000576361 -7.780020400 +0.005770956 +0.000023006\n",
    "        +6.920691902 -0.009520895 +0.000689892 +0.004851466\n",
    "        -0.016898657 +5.075161298 -0.009497136 +0.001903218\n",
    "        -3.050485660 -0.138341947 +0.011948809 -0.017122914\n",
    "        -0.075752419 -1.363729124 -0.006748873 +0.029064067\n",
    "        +0.850663781 -0.403349276 +0.000246420 -0.027928955\n",
    "        -0.025639041 +0.702222016 +0.002102967 +0.016497308\n",
    "        -0.150230960 -0.216195929 -0.001217930 -0.005598515\n",
    "        +0.034404779 +0.019547031 +0.000233939 +0.000838386"
   ]
  },
  {
   "cell_type": "markdown",
   "metadata": {},
   "source": [
    "Écrire un programme Python qui calcule les fonctions de Fresnel $C(x)$ et $S(x)$ ainsi que leurs représentations graphiques:\n",
    "\n",
    "**a)**\n",
    "Définir les fonctions `ff1(x)`, `gg1(x)`, `ff2(x)` et `gg2(x)`. Chaque fonction renvoie la valeur de la somme qui lui correspond."
   ]
  },
  {
   "cell_type": "code",
   "execution_count": null,
   "metadata": {},
   "outputs": [],
   "source": []
  },
  {
   "cell_type": "markdown",
   "metadata": {},
   "source": [
    "**b)**\n",
    "Définir les fonctions Python `C(x)` et `S(x)` qui renvoient respectivement les listes, les valeurs de $C(x)$ et $S(x)$, `CF` et` SF` (en utilisant une boucle `for` pour remplir les listes par exemple)."
   ]
  },
  {
   "cell_type": "code",
   "execution_count": null,
   "metadata": {},
   "outputs": [],
   "source": []
  },
  {
   "cell_type": "markdown",
   "metadata": {},
   "source": [
    "**c)**\n",
    "Créer des tableaux `an`, `bn`, `cn` et `dn` à partir du fichier *coef.dat*.\n"
   ]
  },
  {
   "cell_type": "code",
   "execution_count": null,
   "metadata": {},
   "outputs": [],
   "source": []
  },
  {
   "cell_type": "markdown",
   "metadata": {},
   "source": [
    "**d)**\n",
    "Créer un tableau `x`. Utilisez 800 intervalles pour évaluer les points dans [0,10] (cas où $x \\geq 0$)."
   ]
  },
  {
   "cell_type": "code",
   "execution_count": null,
   "metadata": {},
   "outputs": [],
   "source": []
  },
  {
   "cell_type": "markdown",
   "metadata": {},
   "source": [
    "**e)**\n",
    "Transformer `C(x)` et `S(x)` en tableaux `numpy`, respectivement `CF` et `SF`."
   ]
  },
  {
   "cell_type": "code",
   "execution_count": null,
   "metadata": {},
   "outputs": [],
   "source": []
  },
  {
   "cell_type": "markdown",
   "metadata": {},
   "source": [
    "**f)**\n",
    "Tracer une grille de figures à 2 colonnes dont le graphique de gauche représente `CF` et `SF` en fonction de `x` et le graphique de droite représente une \"clothoïde\": \"https://fr.wikipedia.org/wiki/Clotho%C3%AFde\" (ou spirale de Cornu, ou Spirale de Fresnel..)`SF` en fonction de `CF`.\n",
    "La sortie de ce programme devrait être comme suit:\n",
    "\n",
    "<p></p>\n",
    "<img src=\"scripts/Fresnel.png\" width=500>\n"
   ]
  },
  {
   "cell_type": "code",
   "execution_count": null,
   "metadata": {},
   "outputs": [],
   "source": []
  }
 ],
 "metadata": {
  "kernelspec": {
   "display_name": "Python 3 (ipykernel)",
   "language": "python",
   "name": "python3"
  },
  "language_info": {
   "codemirror_mode": {
    "name": "ipython",
    "version": 3
   },
   "file_extension": ".py",
   "mimetype": "text/x-python",
   "name": "python",
   "nbconvert_exporter": "python",
   "pygments_lexer": "ipython3",
   "version": "3.9.7"
  }
 },
 "nbformat": 4,
 "nbformat_minor": 4
}
